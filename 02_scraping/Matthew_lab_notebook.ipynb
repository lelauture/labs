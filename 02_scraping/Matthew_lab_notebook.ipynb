{
  "cells": [
    {
      "cell_type": "markdown",
      "metadata": {
        "id": "cDnGjxerL_Tj"
      },
      "source": [
        "# Web Scraping\n",
        "\n",
        "Last time, we looked at REST API's as a source of data. You can get lots of very high quality data this way.\n",
        "\n",
        "Some data is available online, but not through an API. When this is the case, some times you can simply copy and paste the data into a .csv file and go on with your life. But if there are many records to parse and combine into a dataset, that might be impossible. Can we automate the collection of data from online sources?\n",
        "\n",
        "This is called web scraping. Broadly speaking: Web scraping is legal, but what you plan to do with the results of your scraping might not be. In general, most sites do not want you to scrape them at this point, but there is not really a way to stop you if you are sufficiently motivated. Be careful to use server resources respectfully (not too many requests per unit time), think seriously about privacy concerns, and be careful who you share your work with."
      ]
    },
    {
      "cell_type": "markdown",
      "metadata": {
        "id": "rTVpkgBGL_Tl"
      },
      "source": [
        "We'll be scraping data about used cars in Charlottesville from Craigslist. This will give us a chance to put those wrangling, EDA, and visualization skills to work.\n",
        "\n",
        "We'll use the `requests` package, as we did with API's, but will be getting the kinds of web pages you see everyday. Again, we'll use a header with a user-agent that masks our true identity so that we're not rejected by the server. This particular url points to the car listings for Craigslist in Charlottesville."
      ]
    },
    {
      "cell_type": "code",
      "execution_count": null,
      "metadata": {
        "id": "JW00ZER9L_Tm"
      },
      "outputs": [],
      "source": [
        "import numpy as np\n",
        "import matplotlib.pyplot as plt\n",
        "import pandas as pd\n",
        "import seaborn as sns\n",
        "\n",
        "import requests # Page requests\n",
        "\n",
        "header = {'User-Agent': 'Mozilla/5.0 (Windows NT 10.0; Win64; x64; rv:124.0) Gecko/20100101 Firefox/124.0'}\n",
        "url = 'https://charlottesville.craigslist.org/search/cta?purveyor=owner#search=1~gallery~0~0'\n",
        "raw = requests.get(url,headers=header) # Get page"
      ]
    },
    {
      "cell_type": "markdown",
      "metadata": {
        "id": "0dQX5dvOL_Tn"
      },
      "source": [
        "Now that we have that particular page available locally, we want to **parse** it and get results from it. To do that, we can use a package called `beautifulSoup` or `bs4`.\n",
        "\n",
        "What does `beautifulSoup` do for us? Let's go to the web page of interest. You probably see something like this:\n",
        "\n",
        "![Listings](craigslist.png \"Craigslist\")\n",
        "\n",
        "But if you \"view page source\" -- which is CTRL+U -- in Chrome, you see what the computer sees:\n",
        "\n",
        "![Listings](craigslist_source.png \"Craigslist\")\n",
        "\n",
        "Since your web browser needs lots of instructions about how to render the text, pictures, and other content on your web page, there are a lot of clues about where the data live and how to extricate them from a page. These clues are called **tags**. If you wander the source for the search page on cars, you see a particular `class = \"cl-static-search-result\"` term appear attached to each listing:\n",
        "\n",
        "![Listings](listing.png \"Craigslist\")\n",
        "\n",
        "This structure can be exploited to search the page for information. This kind of detective work -- looking at the page source, finding the interesting tages, and then searching the page with `beautifulSoup` -- is the basic job of web scraping."
      ]
    },
    {
      "cell_type": "markdown",
      "metadata": {
        "id": "zEGQ3n3KL_Tn"
      },
      "source": [
        "## 1. Pick something else on Craigslist: Musical instruments, roommates, antiques, etc. Look at the search page and its source code. Record which fields/data you would like to gather, and what kinds of EDA you'd do with it."
      ]
    },
    {
      "cell_type": "markdown",
      "metadata": {
        "id": "_9AWDn4zL_Tn"
      },
      "source": [
        "*I will look at boats on craigslist.* [Boats](https://charlottesville.craigslist.org/search/boo#search=1~gallery~0~0)\n"
      ]
    },
    {
      "cell_type": "markdown",
      "source": [],
      "metadata": {
        "id": "PsTKPyh6MOpj"
      }
    },
    {
      "cell_type": "markdown",
      "metadata": {
        "id": "HEtHXbrTL_To"
      },
      "source": [
        "The following code chunk takes the raw content from `requests` and turns it into a beautifulSoup object, which can search the page and return results for us:"
      ]
    },
    {
      "cell_type": "code",
      "execution_count": null,
      "metadata": {
        "id": "agPxIcYPL_To"
      },
      "outputs": [],
      "source": [
        "from bs4 import BeautifulSoup as soup # HTML parser\n",
        "bsObj = soup(raw.content,'html.parser') # Parse the html\n",
        "listings = bsObj.find_all(class_=\"cl-static-search-result\") # Find all listings"
      ]
    },
    {
      "cell_type": "markdown",
      "metadata": {
        "id": "YEyP-W3UL_To"
      },
      "source": [
        "Why is the argument `class_` and not just `class`? The word `class` is a reserved keyword for Python, and cannot be used by anyone else, similar to `True` and `False`. But since we want the `class = \"cl-static-search-result\"` terms, we need to use the `class_` argument to the `.find_all` method.\n",
        "\n",
        "The `.find_all` function dredges the entire page and finds all the instances of `class = \"cl-static-search-result\"`, resulting in a list of entries. We can then parse the entries.\n",
        "\n",
        "For each listing, we'll use the `.find` method to search within the listing record for specific information. To get the information we want, we can then use `.get_text()`.\n",
        "\n",
        "In the code below, two more things happen.\n",
        "\n",
        "First, I would like to get the brand of the car from the post title, if possible. To do this, I split the title into words using `title.split()`, and then I use a list comprehension to look over every word in the title and check whether it appears in the `brands` list.\n",
        "\n",
        "Second, I would like to get the year the car was built, so I can determine the vehicle's age. To do this, I use a thing called **regular expressions** that provides a language for expressing patterns. Do I remember how to do this off the top of my head? No, I read a few pages in a book and looked on StackOverflow for answers. Roughly, in order to express the idea \"any year starting with 20xx,\" you can write `20[0-9][0-9]`, and for \"any year starting with 19xx,\" you can write `19[0-9][0-9]`. The `[0-9]`'s act as wildcards for any digit. This allows me to use the `re` package to find any instances of year-like numbers in the title text, using `re.search(r'20[0-9][0-9]|19[0-9][0-9]', title )`.\n",
        "\n",
        "This is all nested in a for-loop over the listings, and the data is appended to a list."
      ]
    },
    {
      "cell_type": "code",
      "execution_count": null,
      "metadata": {
        "id": "7yn9a-DUL_To"
      },
      "outputs": [],
      "source": [
        "import re # Regular expressions\n",
        "\n",
        "brands = ['honda', 'dodge','toyota','ford','tesla','gmc','jeep','bmw','mitsubishi','mazda',\n",
        "          'volvo','audi','volkswagen','chevy','chevrolet','acura','kia','subaru','lexus',\n",
        "          'cadillac','buick','porsche','infiniti']\n",
        "\n",
        "data = [] # We'll save our listings in this object\n",
        "for k in range( len(listings) ):\n",
        "    title = listings[k].find('div',class_='title').get_text().lower()\n",
        "    price = listings[k].find('div',class_='price').get_text()\n",
        "    link = listings[k].find(href=True)['href']\n",
        "    # Get brand from the title string:\n",
        "    words = title.split()\n",
        "    hits = [word for word in words if word in brands] # Find brands in the title\n",
        "    if len(hits) == 0:\n",
        "        brand = 'missing'\n",
        "    else:\n",
        "        brand = hits[0]\n",
        "    # Get years from title string:\n",
        "    regex_search = re.search(r'20[0-9][0-9]|19[0-9][0-9]', title ) # Find year references\n",
        "    if regex_search is None: # If no hits, record year as missing value\n",
        "        year = np.nan\n",
        "    else: # If hits, record year as first match\n",
        "        year = regex_search.group(0)\n",
        "    #\n",
        "    data.append({'title':title,'price':price,'year':year,'link':link,'brand':brand})"
      ]
    },
    {
      "cell_type": "markdown",
      "metadata": {
        "id": "_7-tUtK5L_Tp"
      },
      "source": [
        "## 2. Get your search results of interest and extract data from them, using code similar to what's above."
      ]
    },
    {
      "cell_type": "code",
      "execution_count": null,
      "metadata": {
        "id": "7Wf5ls74L_Tp"
      },
      "outputs": [],
      "source": [
        "url = 'https://charlottesville.craigslist.org/search/boo#search=1~gallery~0~0'\n",
        "raw = requests.get(url, headers=header)\n",
        "bsObj = soup(raw.content, 'html.parser')\n",
        "listings = bsObj.find_all(class_ = 'cl-static-search-result')"
      ]
    },
    {
      "cell_type": "code",
      "execution_count": null,
      "metadata": {
        "id": "fMazXLGPL_Tp"
      },
      "outputs": [],
      "source": [
        "import re\n",
        "\n",
        "data = []\n",
        "for k in range(len(listings)):\n",
        "    title = listings[k].find('div',class_='title').get_text().lower()\n",
        "    price = listings[k].find('div',class_='price').get_text()\n",
        "    link = listings[k].find(href=True)['href']\n",
        "    length_ft = ''\n",
        "    kayak = False\n",
        "\n",
        "    # Search for ft\n",
        "    search = re.search(r\"\\b(\\d{1,3})\\s?(?:ft|'|feet)\\b\", title)\n",
        "    if search:\n",
        "        length_ft = search.group(1)\n",
        "    else:\n",
        "        length_ft = np.nan\n",
        "\n",
        "    # Kayak?\n",
        "    search = re.search(r\"kayak\", title, re.IGNORECASE)\n",
        "    if search:\n",
        "        kayak = True\n",
        "    data.append({'title':title,'price':price,'length':length_ft,'kayak':kayak})"
      ]
    },
    {
      "cell_type": "markdown",
      "metadata": {
        "id": "RDaQ0yh6L_Tp"
      },
      "source": [
        "\n",
        "With the data scraped from Craigslist, we can put it in a dataframe and wrangle it. Of course, price and year come in as text, not numbers, and need to be typecast/coerced:"
      ]
    },
    {
      "cell_type": "code",
      "execution_count": null,
      "metadata": {
        "id": "1Ln9veotL_Tp",
        "outputId": "29b72e96-5a77-4ad5-f119-fec0e24e343f"
      },
      "outputs": [
        {
          "name": "stdout",
          "output_type": "stream",
          "text": [
            "(85, 6)\n"
          ]
        },
        {
          "data": {
            "text/html": [
              "<div>\n",
              "<style scoped>\n",
              "    .dataframe tbody tr th:only-of-type {\n",
              "        vertical-align: middle;\n",
              "    }\n",
              "\n",
              "    .dataframe tbody tr th {\n",
              "        vertical-align: top;\n",
              "    }\n",
              "\n",
              "    .dataframe thead th {\n",
              "        text-align: right;\n",
              "    }\n",
              "</style>\n",
              "<table border=\"1\" class=\"dataframe\">\n",
              "  <thead>\n",
              "    <tr style=\"text-align: right;\">\n",
              "      <th></th>\n",
              "      <th>title</th>\n",
              "      <th>price</th>\n",
              "      <th>year</th>\n",
              "      <th>link</th>\n",
              "      <th>brand</th>\n",
              "      <th>age</th>\n",
              "    </tr>\n",
              "  </thead>\n",
              "  <tbody>\n",
              "    <tr>\n",
              "      <th>0</th>\n",
              "      <td>2005 toyota tundra sr5 crew cab</td>\n",
              "      <td>7000</td>\n",
              "      <td>2005.0</td>\n",
              "      <td>https://charlottesville.craigslist.org/cto/d/c...</td>\n",
              "      <td>toyota</td>\n",
              "      <td>20.0</td>\n",
              "    </tr>\n",
              "    <tr>\n",
              "      <th>1</th>\n",
              "      <td>2014 gmc sierra 1500</td>\n",
              "      <td>15000</td>\n",
              "      <td>2014.0</td>\n",
              "      <td>https://charlottesville.craigslist.org/cto/d/c...</td>\n",
              "      <td>gmc</td>\n",
              "      <td>11.0</td>\n",
              "    </tr>\n",
              "    <tr>\n",
              "      <th>2</th>\n",
              "      <td>2000 chevy silverado 1500 ls</td>\n",
              "      <td>8000</td>\n",
              "      <td>2000.0</td>\n",
              "      <td>https://charlottesville.craigslist.org/cto/d/d...</td>\n",
              "      <td>chevy</td>\n",
              "      <td>25.0</td>\n",
              "    </tr>\n",
              "    <tr>\n",
              "      <th>3</th>\n",
              "      <td>mercedes benz 2016 gle 300d diesel suv</td>\n",
              "      <td>25000</td>\n",
              "      <td>2016.0</td>\n",
              "      <td>https://charlottesville.craigslist.org/cto/d/c...</td>\n",
              "      <td>missing</td>\n",
              "      <td>9.0</td>\n",
              "    </tr>\n",
              "    <tr>\n",
              "      <th>4</th>\n",
              "      <td>used 2009 hyundai santa fe</td>\n",
              "      <td>3000</td>\n",
              "      <td>2009.0</td>\n",
              "      <td>https://charlottesville.craigslist.org/cto/d/c...</td>\n",
              "      <td>missing</td>\n",
              "      <td>16.0</td>\n",
              "    </tr>\n",
              "  </tbody>\n",
              "</table>\n",
              "</div>"
            ],
            "text/plain": [
              "                                    title  price    year  \\\n",
              "0         2005 toyota tundra sr5 crew cab   7000  2005.0   \n",
              "1                    2014 gmc sierra 1500  15000  2014.0   \n",
              "2            2000 chevy silverado 1500 ls   8000  2000.0   \n",
              "3  mercedes benz 2016 gle 300d diesel suv  25000  2016.0   \n",
              "4              used 2009 hyundai santa fe   3000  2009.0   \n",
              "\n",
              "                                                link    brand   age  \n",
              "0  https://charlottesville.craigslist.org/cto/d/c...   toyota  20.0  \n",
              "1  https://charlottesville.craigslist.org/cto/d/c...      gmc  11.0  \n",
              "2  https://charlottesville.craigslist.org/cto/d/d...    chevy  25.0  \n",
              "3  https://charlottesville.craigslist.org/cto/d/c...  missing   9.0  \n",
              "4  https://charlottesville.craigslist.org/cto/d/c...  missing  16.0  "
            ]
          },
          "execution_count": 29,
          "metadata": {},
          "output_type": "execute_result"
        }
      ],
      "source": [
        "## Wrangle the data\n",
        "df = pd.DataFrame.from_dict(data)\n",
        "df['price'] = df['price'].str.replace('$','')\n",
        "df['price'] = df['price'].str.replace(',','')\n",
        "df['price'] = pd.to_numeric(df['price'],errors='coerce')\n",
        "df['year'] = pd.to_numeric(df['year'],errors='coerce')\n",
        "df['age'] = 2025-df['year']\n",
        "print(df.shape)\n",
        "df.to_csv('craigslist_cville_cars.csv') # Save data in case of a disaster\n",
        "df.head()"
      ]
    },
    {
      "cell_type": "markdown",
      "metadata": {
        "id": "OoMVD1XXL_Tq"
      },
      "source": [
        "With the data in and wrangled, we can now do EDA:"
      ]
    },
    {
      "cell_type": "code",
      "execution_count": null,
      "metadata": {
        "id": "NAG50-97L_Tr",
        "outputId": "55dc6540-054a-4da4-84ab-9a64391efc6c"
      },
      "outputs": [
        {
          "name": "stdout",
          "output_type": "stream",
          "text": [
            "count       85.000000\n",
            "mean      8146.741176\n",
            "std       8074.615739\n",
            "min         10.000000\n",
            "25%       3000.000000\n",
            "50%       5900.000000\n",
            "75%      10900.000000\n",
            "max      49900.000000\n",
            "Name: price, dtype: float64\n"
          ]
        },
        {
          "data": {
            "image/png": "[encoded data removed]",
            "text/plain": [
              "<Figure size 640x480 with 1 Axes>"
            ]
          },
          "metadata": {},
          "output_type": "display_data"
        },
        {
          "ename": "KeyError",
          "evalue": "'age'",
          "output_type": "error",
          "traceback": [
            "\u001b[0;31m---------------------------------------------------------------------------\u001b[0m",
            "\u001b[0;31mKeyError\u001b[0m                                  Traceback (most recent call last)",
            "File \u001b[0;32m~/Desktop/DS3001/venv/lib/python3.12/site-packages/pandas/core/indexes/base.py:3805\u001b[0m, in \u001b[0;36mIndex.get_loc\u001b[0;34m(self, key)\u001b[0m\n\u001b[1;32m   3804\u001b[0m \u001b[38;5;28;01mtry\u001b[39;00m:\n\u001b[0;32m-> 3805\u001b[0m     \u001b[38;5;28;01mreturn\u001b[39;00m \u001b[38;5;28;43mself\u001b[39;49m\u001b[38;5;241;43m.\u001b[39;49m\u001b[43m_engine\u001b[49m\u001b[38;5;241;43m.\u001b[39;49m\u001b[43mget_loc\u001b[49m\u001b[43m(\u001b[49m\u001b[43mcasted_key\u001b[49m\u001b[43m)\u001b[49m\n\u001b[1;32m   3806\u001b[0m \u001b[38;5;28;01mexcept\u001b[39;00m \u001b[38;5;167;01mKeyError\u001b[39;00m \u001b[38;5;28;01mas\u001b[39;00m err:\n",
            "File \u001b[0;32mindex.pyx:167\u001b[0m, in \u001b[0;36mpandas._libs.index.IndexEngine.get_loc\u001b[0;34m()\u001b[0m\n",
            "File \u001b[0;32mindex.pyx:196\u001b[0m, in \u001b[0;36mpandas._libs.index.IndexEngine.get_loc\u001b[0;34m()\u001b[0m\n",
            "File \u001b[0;32mpandas/_libs/hashtable_class_helper.pxi:7081\u001b[0m, in \u001b[0;36mpandas._libs.hashtable.PyObjectHashTable.get_item\u001b[0;34m()\u001b[0m\n",
            "File \u001b[0;32mpandas/_libs/hashtable_class_helper.pxi:7089\u001b[0m, in \u001b[0;36mpandas._libs.hashtable.PyObjectHashTable.get_item\u001b[0;34m()\u001b[0m\n",
            "\u001b[0;31mKeyError\u001b[0m: 'age'",
            "\nThe above exception was the direct cause of the following exception:\n",
            "\u001b[0;31mKeyError\u001b[0m                                  Traceback (most recent call last)",
            "Cell \u001b[0;32mIn[38], line 5\u001b[0m\n\u001b[1;32m      3\u001b[0m df[\u001b[38;5;124m'\u001b[39m\u001b[38;5;124mprice\u001b[39m\u001b[38;5;124m'\u001b[39m]\u001b[38;5;241m.\u001b[39mhist(grid\u001b[38;5;241m=\u001b[39m\u001b[38;5;28;01mFalse\u001b[39;00m)\n\u001b[1;32m      4\u001b[0m plt\u001b[38;5;241m.\u001b[39mshow()\n\u001b[0;32m----> 5\u001b[0m \u001b[38;5;28mprint\u001b[39m(\u001b[43mdf\u001b[49m\u001b[43m[\u001b[49m\u001b[38;5;124;43m'\u001b[39;49m\u001b[38;5;124;43mage\u001b[39;49m\u001b[38;5;124;43m'\u001b[39;49m\u001b[43m]\u001b[49m\u001b[38;5;241m.\u001b[39mdescribe())\n\u001b[1;32m      6\u001b[0m df[\u001b[38;5;124m'\u001b[39m\u001b[38;5;124mage\u001b[39m\u001b[38;5;124m'\u001b[39m]\u001b[38;5;241m.\u001b[39mhist(grid\u001b[38;5;241m=\u001b[39m\u001b[38;5;28;01mFalse\u001b[39;00m)\n\u001b[1;32m      7\u001b[0m plt\u001b[38;5;241m.\u001b[39mshow()\n",
            "File \u001b[0;32m~/Desktop/DS3001/venv/lib/python3.12/site-packages/pandas/core/frame.py:4102\u001b[0m, in \u001b[0;36mDataFrame.__getitem__\u001b[0;34m(self, key)\u001b[0m\n\u001b[1;32m   4100\u001b[0m \u001b[38;5;28;01mif\u001b[39;00m \u001b[38;5;28mself\u001b[39m\u001b[38;5;241m.\u001b[39mcolumns\u001b[38;5;241m.\u001b[39mnlevels \u001b[38;5;241m>\u001b[39m \u001b[38;5;241m1\u001b[39m:\n\u001b[1;32m   4101\u001b[0m     \u001b[38;5;28;01mreturn\u001b[39;00m \u001b[38;5;28mself\u001b[39m\u001b[38;5;241m.\u001b[39m_getitem_multilevel(key)\n\u001b[0;32m-> 4102\u001b[0m indexer \u001b[38;5;241m=\u001b[39m \u001b[38;5;28;43mself\u001b[39;49m\u001b[38;5;241;43m.\u001b[39;49m\u001b[43mcolumns\u001b[49m\u001b[38;5;241;43m.\u001b[39;49m\u001b[43mget_loc\u001b[49m\u001b[43m(\u001b[49m\u001b[43mkey\u001b[49m\u001b[43m)\u001b[49m\n\u001b[1;32m   4103\u001b[0m \u001b[38;5;28;01mif\u001b[39;00m is_integer(indexer):\n\u001b[1;32m   4104\u001b[0m     indexer \u001b[38;5;241m=\u001b[39m [indexer]\n",
            "File \u001b[0;32m~/Desktop/DS3001/venv/lib/python3.12/site-packages/pandas/core/indexes/base.py:3812\u001b[0m, in \u001b[0;36mIndex.get_loc\u001b[0;34m(self, key)\u001b[0m\n\u001b[1;32m   3807\u001b[0m     \u001b[38;5;28;01mif\u001b[39;00m \u001b[38;5;28misinstance\u001b[39m(casted_key, \u001b[38;5;28mslice\u001b[39m) \u001b[38;5;129;01mor\u001b[39;00m (\n\u001b[1;32m   3808\u001b[0m         \u001b[38;5;28misinstance\u001b[39m(casted_key, abc\u001b[38;5;241m.\u001b[39mIterable)\n\u001b[1;32m   3809\u001b[0m         \u001b[38;5;129;01mand\u001b[39;00m \u001b[38;5;28many\u001b[39m(\u001b[38;5;28misinstance\u001b[39m(x, \u001b[38;5;28mslice\u001b[39m) \u001b[38;5;28;01mfor\u001b[39;00m x \u001b[38;5;129;01min\u001b[39;00m casted_key)\n\u001b[1;32m   3810\u001b[0m     ):\n\u001b[1;32m   3811\u001b[0m         \u001b[38;5;28;01mraise\u001b[39;00m InvalidIndexError(key)\n\u001b[0;32m-> 3812\u001b[0m     \u001b[38;5;28;01mraise\u001b[39;00m \u001b[38;5;167;01mKeyError\u001b[39;00m(key) \u001b[38;5;28;01mfrom\u001b[39;00m \u001b[38;5;21;01merr\u001b[39;00m\n\u001b[1;32m   3813\u001b[0m \u001b[38;5;28;01mexcept\u001b[39;00m \u001b[38;5;167;01mTypeError\u001b[39;00m:\n\u001b[1;32m   3814\u001b[0m     \u001b[38;5;66;03m# If we have a listlike key, _check_indexing_error will raise\u001b[39;00m\n\u001b[1;32m   3815\u001b[0m     \u001b[38;5;66;03m#  InvalidIndexError. Otherwise we fall through and re-raise\u001b[39;00m\n\u001b[1;32m   3816\u001b[0m     \u001b[38;5;66;03m#  the TypeError.\u001b[39;00m\n\u001b[1;32m   3817\u001b[0m     \u001b[38;5;28mself\u001b[39m\u001b[38;5;241m.\u001b[39m_check_indexing_error(key)\n",
            "\u001b[0;31mKeyError\u001b[0m: 'age'"
          ]
        }
      ],
      "source": [
        "# EDA for price and age:\n",
        "print(df['price'].describe())\n",
        "df['price'].hist(grid=False)\n",
        "plt.show()\n",
        "print(df['age'].describe())\n",
        "df['age'].hist(grid=False)\n",
        "plt.show()"
      ]
    },
    {
      "cell_type": "code",
      "execution_count": null,
      "metadata": {
        "id": "1QexHdCAL_Tr",
        "outputId": "a1521136-3ab8-4193-f091-764802a19148"
      },
      "outputs": [
        {
          "data": {
            "text/html": [
              "<div>\n",
              "<style scoped>\n",
              "    .dataframe tbody tr th:only-of-type {\n",
              "        vertical-align: middle;\n",
              "    }\n",
              "\n",
              "    .dataframe tbody tr th {\n",
              "        vertical-align: top;\n",
              "    }\n",
              "\n",
              "    .dataframe thead tr th {\n",
              "        text-align: left;\n",
              "    }\n",
              "\n",
              "    .dataframe thead tr:last-of-type th {\n",
              "        text-align: right;\n",
              "    }\n",
              "</style>\n",
              "<table border=\"1\" class=\"dataframe\">\n",
              "  <thead>\n",
              "    <tr>\n",
              "      <th></th>\n",
              "      <th colspan=\"8\" halign=\"left\">price</th>\n",
              "    </tr>\n",
              "    <tr>\n",
              "      <th></th>\n",
              "      <th>count</th>\n",
              "      <th>mean</th>\n",
              "      <th>std</th>\n",
              "      <th>min</th>\n",
              "      <th>25%</th>\n",
              "      <th>50%</th>\n",
              "      <th>75%</th>\n",
              "      <th>max</th>\n",
              "    </tr>\n",
              "    <tr>\n",
              "      <th>brand</th>\n",
              "      <th></th>\n",
              "      <th></th>\n",
              "      <th></th>\n",
              "      <th></th>\n",
              "      <th></th>\n",
              "      <th></th>\n",
              "      <th></th>\n",
              "      <th></th>\n",
              "    </tr>\n",
              "  </thead>\n",
              "  <tbody>\n",
              "    <tr>\n",
              "      <th>acura</th>\n",
              "      <td>1.0</td>\n",
              "      <td>3500.000000</td>\n",
              "      <td>NaN</td>\n",
              "      <td>3500.0</td>\n",
              "      <td>3500.00</td>\n",
              "      <td>3500.0</td>\n",
              "      <td>3500.00</td>\n",
              "      <td>3500.0</td>\n",
              "    </tr>\n",
              "    <tr>\n",
              "      <th>audi</th>\n",
              "      <td>2.0</td>\n",
              "      <td>6432.500000</td>\n",
              "      <td>7399.872465</td>\n",
              "      <td>1200.0</td>\n",
              "      <td>3816.25</td>\n",
              "      <td>6432.5</td>\n",
              "      <td>9048.75</td>\n",
              "      <td>11665.0</td>\n",
              "    </tr>\n",
              "    <tr>\n",
              "      <th>bmw</th>\n",
              "      <td>4.0</td>\n",
              "      <td>5850.000000</td>\n",
              "      <td>2248.703330</td>\n",
              "      <td>3000.0</td>\n",
              "      <td>5175.00</td>\n",
              "      <td>5950.0</td>\n",
              "      <td>6625.00</td>\n",
              "      <td>8500.0</td>\n",
              "    </tr>\n",
              "    <tr>\n",
              "      <th>buick</th>\n",
              "      <td>3.0</td>\n",
              "      <td>3700.000000</td>\n",
              "      <td>984.885780</td>\n",
              "      <td>2600.0</td>\n",
              "      <td>3300.00</td>\n",
              "      <td>4000.0</td>\n",
              "      <td>4250.00</td>\n",
              "      <td>4500.0</td>\n",
              "    </tr>\n",
              "    <tr>\n",
              "      <th>chevrolet</th>\n",
              "      <td>3.0</td>\n",
              "      <td>10000.000000</td>\n",
              "      <td>6500.000000</td>\n",
              "      <td>6000.0</td>\n",
              "      <td>6250.00</td>\n",
              "      <td>6500.0</td>\n",
              "      <td>12000.00</td>\n",
              "      <td>17500.0</td>\n",
              "    </tr>\n",
              "    <tr>\n",
              "      <th>chevy</th>\n",
              "      <td>4.0</td>\n",
              "      <td>4002.500000</td>\n",
              "      <td>3261.905118</td>\n",
              "      <td>10.0</td>\n",
              "      <td>3002.50</td>\n",
              "      <td>4000.0</td>\n",
              "      <td>5000.00</td>\n",
              "      <td>8000.0</td>\n",
              "    </tr>\n",
              "    <tr>\n",
              "      <th>dodge</th>\n",
              "      <td>4.0</td>\n",
              "      <td>6250.000000</td>\n",
              "      <td>3304.037934</td>\n",
              "      <td>2000.0</td>\n",
              "      <td>5000.00</td>\n",
              "      <td>6500.0</td>\n",
              "      <td>7750.00</td>\n",
              "      <td>10000.0</td>\n",
              "    </tr>\n",
              "    <tr>\n",
              "      <th>ford</th>\n",
              "      <td>7.0</td>\n",
              "      <td>6278.571429</td>\n",
              "      <td>4321.829970</td>\n",
              "      <td>1000.0</td>\n",
              "      <td>2500.00</td>\n",
              "      <td>7250.0</td>\n",
              "      <td>9600.00</td>\n",
              "      <td>11500.0</td>\n",
              "    </tr>\n",
              "    <tr>\n",
              "      <th>gmc</th>\n",
              "      <td>3.0</td>\n",
              "      <td>8300.000000</td>\n",
              "      <td>5980.802622</td>\n",
              "      <td>3500.0</td>\n",
              "      <td>4950.00</td>\n",
              "      <td>6400.0</td>\n",
              "      <td>10700.00</td>\n",
              "      <td>15000.0</td>\n",
              "    </tr>\n",
              "    <tr>\n",
              "      <th>honda</th>\n",
              "      <td>10.0</td>\n",
              "      <td>7164.900000</td>\n",
              "      <td>3914.201790</td>\n",
              "      <td>1000.0</td>\n",
              "      <td>4775.00</td>\n",
              "      <td>7200.0</td>\n",
              "      <td>9637.50</td>\n",
              "      <td>13000.0</td>\n",
              "    </tr>\n",
              "    <tr>\n",
              "      <th>jeep</th>\n",
              "      <td>4.0</td>\n",
              "      <td>8725.000000</td>\n",
              "      <td>7818.940678</td>\n",
              "      <td>1500.0</td>\n",
              "      <td>2625.00</td>\n",
              "      <td>7750.0</td>\n",
              "      <td>13850.00</td>\n",
              "      <td>17900.0</td>\n",
              "    </tr>\n",
              "    <tr>\n",
              "      <th>kia</th>\n",
              "      <td>1.0</td>\n",
              "      <td>9500.000000</td>\n",
              "      <td>NaN</td>\n",
              "      <td>9500.0</td>\n",
              "      <td>9500.00</td>\n",
              "      <td>9500.0</td>\n",
              "      <td>9500.00</td>\n",
              "      <td>9500.0</td>\n",
              "    </tr>\n",
              "    <tr>\n",
              "      <th>lexus</th>\n",
              "      <td>1.0</td>\n",
              "      <td>14950.000000</td>\n",
              "      <td>NaN</td>\n",
              "      <td>14950.0</td>\n",
              "      <td>14950.00</td>\n",
              "      <td>14950.0</td>\n",
              "      <td>14950.00</td>\n",
              "      <td>14950.0</td>\n",
              "    </tr>\n",
              "    <tr>\n",
              "      <th>missing</th>\n",
              "      <td>21.0</td>\n",
              "      <td>9092.809524</td>\n",
              "      <td>8753.706687</td>\n",
              "      <td>1200.0</td>\n",
              "      <td>3000.00</td>\n",
              "      <td>4950.0</td>\n",
              "      <td>15000.00</td>\n",
              "      <td>31950.0</td>\n",
              "    </tr>\n",
              "    <tr>\n",
              "      <th>mitsubishi</th>\n",
              "      <td>1.0</td>\n",
              "      <td>3200.000000</td>\n",
              "      <td>NaN</td>\n",
              "      <td>3200.0</td>\n",
              "      <td>3200.00</td>\n",
              "      <td>3200.0</td>\n",
              "      <td>3200.00</td>\n",
              "      <td>3200.0</td>\n",
              "    </tr>\n",
              "    <tr>\n",
              "      <th>subaru</th>\n",
              "      <td>3.0</td>\n",
              "      <td>4300.000000</td>\n",
              "      <td>2787.471973</td>\n",
              "      <td>2000.0</td>\n",
              "      <td>2750.00</td>\n",
              "      <td>3500.0</td>\n",
              "      <td>5450.00</td>\n",
              "      <td>7400.0</td>\n",
              "    </tr>\n",
              "    <tr>\n",
              "      <th>tesla</th>\n",
              "      <td>2.0</td>\n",
              "      <td>21450.000000</td>\n",
              "      <td>6434.671709</td>\n",
              "      <td>16900.0</td>\n",
              "      <td>19175.00</td>\n",
              "      <td>21450.0</td>\n",
              "      <td>23725.00</td>\n",
              "      <td>26000.0</td>\n",
              "    </tr>\n",
              "    <tr>\n",
              "      <th>toyota</th>\n",
              "      <td>9.0</td>\n",
              "      <td>12650.000000</td>\n",
              "      <td>16599.359927</td>\n",
              "      <td>1500.0</td>\n",
              "      <td>3300.00</td>\n",
              "      <td>4100.0</td>\n",
              "      <td>11000.00</td>\n",
              "      <td>49900.0</td>\n",
              "    </tr>\n",
              "    <tr>\n",
              "      <th>volkswagen</th>\n",
              "      <td>1.0</td>\n",
              "      <td>4950.000000</td>\n",
              "      <td>NaN</td>\n",
              "      <td>4950.0</td>\n",
              "      <td>4950.00</td>\n",
              "      <td>4950.0</td>\n",
              "      <td>4950.00</td>\n",
              "      <td>4950.0</td>\n",
              "    </tr>\n",
              "    <tr>\n",
              "      <th>volvo</th>\n",
              "      <td>1.0</td>\n",
              "      <td>2000.000000</td>\n",
              "      <td>NaN</td>\n",
              "      <td>2000.0</td>\n",
              "      <td>2000.00</td>\n",
              "      <td>2000.0</td>\n",
              "      <td>2000.00</td>\n",
              "      <td>2000.0</td>\n",
              "    </tr>\n",
              "  </tbody>\n",
              "</table>\n",
              "</div>"
            ],
            "text/plain": [
              "           price                                                          \\\n",
              "           count          mean           std      min       25%      50%   \n",
              "brand                                                                      \n",
              "acura        1.0   3500.000000           NaN   3500.0   3500.00   3500.0   \n",
              "audi         2.0   6432.500000   7399.872465   1200.0   3816.25   6432.5   \n",
              "bmw          4.0   5850.000000   2248.703330   3000.0   5175.00   5950.0   \n",
              "buick        3.0   3700.000000    984.885780   2600.0   3300.00   4000.0   \n",
              "chevrolet    3.0  10000.000000   6500.000000   6000.0   6250.00   6500.0   \n",
              "chevy        4.0   4002.500000   3261.905118     10.0   3002.50   4000.0   \n",
              "dodge        4.0   6250.000000   3304.037934   2000.0   5000.00   6500.0   \n",
              "ford         7.0   6278.571429   4321.829970   1000.0   2500.00   7250.0   \n",
              "gmc          3.0   8300.000000   5980.802622   3500.0   4950.00   6400.0   \n",
              "honda       10.0   7164.900000   3914.201790   1000.0   4775.00   7200.0   \n",
              "jeep         4.0   8725.000000   7818.940678   1500.0   2625.00   7750.0   \n",
              "kia          1.0   9500.000000           NaN   9500.0   9500.00   9500.0   \n",
              "lexus        1.0  14950.000000           NaN  14950.0  14950.00  14950.0   \n",
              "missing     21.0   9092.809524   8753.706687   1200.0   3000.00   4950.0   \n",
              "mitsubishi   1.0   3200.000000           NaN   3200.0   3200.00   3200.0   \n",
              "subaru       3.0   4300.000000   2787.471973   2000.0   2750.00   3500.0   \n",
              "tesla        2.0  21450.000000   6434.671709  16900.0  19175.00  21450.0   \n",
              "toyota       9.0  12650.000000  16599.359927   1500.0   3300.00   4100.0   \n",
              "volkswagen   1.0   4950.000000           NaN   4950.0   4950.00   4950.0   \n",
              "volvo        1.0   2000.000000           NaN   2000.0   2000.00   2000.0   \n",
              "\n",
              "                               \n",
              "                 75%      max  \n",
              "brand                          \n",
              "acura        3500.00   3500.0  \n",
              "audi         9048.75  11665.0  \n",
              "bmw          6625.00   8500.0  \n",
              "buick        4250.00   4500.0  \n",
              "chevrolet   12000.00  17500.0  \n",
              "chevy        5000.00   8000.0  \n",
              "dodge        7750.00  10000.0  \n",
              "ford         9600.00  11500.0  \n",
              "gmc         10700.00  15000.0  \n",
              "honda        9637.50  13000.0  \n",
              "jeep        13850.00  17900.0  \n",
              "kia          9500.00   9500.0  \n",
              "lexus       14950.00  14950.0  \n",
              "missing     15000.00  31950.0  \n",
              "mitsubishi   3200.00   3200.0  \n",
              "subaru       5450.00   7400.0  \n",
              "tesla       23725.00  26000.0  \n",
              "toyota      11000.00  49900.0  \n",
              "volkswagen   4950.00   4950.0  \n",
              "volvo        2000.00   2000.0  "
            ]
          },
          "execution_count": 31,
          "metadata": {},
          "output_type": "execute_result"
        }
      ],
      "source": [
        "# Price by brand:\n",
        "df.loc[:,['price','brand']].groupby('brand').describe()"
      ]
    },
    {
      "cell_type": "code",
      "execution_count": null,
      "metadata": {
        "id": "WbIZW8naL_Tr",
        "outputId": "f873576f-f6db-4e28-b470-1eeac2a10e6e"
      },
      "outputs": [
        {
          "data": {
            "text/html": [
              "<div>\n",
              "<style scoped>\n",
              "    .dataframe tbody tr th:only-of-type {\n",
              "        vertical-align: middle;\n",
              "    }\n",
              "\n",
              "    .dataframe tbody tr th {\n",
              "        vertical-align: top;\n",
              "    }\n",
              "\n",
              "    .dataframe thead tr th {\n",
              "        text-align: left;\n",
              "    }\n",
              "\n",
              "    .dataframe thead tr:last-of-type th {\n",
              "        text-align: right;\n",
              "    }\n",
              "</style>\n",
              "<table border=\"1\" class=\"dataframe\">\n",
              "  <thead>\n",
              "    <tr>\n",
              "      <th></th>\n",
              "      <th colspan=\"8\" halign=\"left\">age</th>\n",
              "    </tr>\n",
              "    <tr>\n",
              "      <th></th>\n",
              "      <th>count</th>\n",
              "      <th>mean</th>\n",
              "      <th>std</th>\n",
              "      <th>min</th>\n",
              "      <th>25%</th>\n",
              "      <th>50%</th>\n",
              "      <th>75%</th>\n",
              "      <th>max</th>\n",
              "    </tr>\n",
              "    <tr>\n",
              "      <th>brand</th>\n",
              "      <th></th>\n",
              "      <th></th>\n",
              "      <th></th>\n",
              "      <th></th>\n",
              "      <th></th>\n",
              "      <th></th>\n",
              "      <th></th>\n",
              "      <th></th>\n",
              "    </tr>\n",
              "  </thead>\n",
              "  <tbody>\n",
              "    <tr>\n",
              "      <th>acura</th>\n",
              "      <td>1.0</td>\n",
              "      <td>17.000000</td>\n",
              "      <td>NaN</td>\n",
              "      <td>17.0</td>\n",
              "      <td>17.00</td>\n",
              "      <td>17.0</td>\n",
              "      <td>17.00</td>\n",
              "      <td>17.0</td>\n",
              "    </tr>\n",
              "    <tr>\n",
              "      <th>audi</th>\n",
              "      <td>1.0</td>\n",
              "      <td>21.000000</td>\n",
              "      <td>NaN</td>\n",
              "      <td>21.0</td>\n",
              "      <td>21.00</td>\n",
              "      <td>21.0</td>\n",
              "      <td>21.00</td>\n",
              "      <td>21.0</td>\n",
              "    </tr>\n",
              "    <tr>\n",
              "      <th>bmw</th>\n",
              "      <td>2.0</td>\n",
              "      <td>12.500000</td>\n",
              "      <td>2.121320</td>\n",
              "      <td>11.0</td>\n",
              "      <td>11.75</td>\n",
              "      <td>12.5</td>\n",
              "      <td>13.25</td>\n",
              "      <td>14.0</td>\n",
              "    </tr>\n",
              "    <tr>\n",
              "      <th>buick</th>\n",
              "      <td>1.0</td>\n",
              "      <td>19.000000</td>\n",
              "      <td>NaN</td>\n",
              "      <td>19.0</td>\n",
              "      <td>19.00</td>\n",
              "      <td>19.0</td>\n",
              "      <td>19.00</td>\n",
              "      <td>19.0</td>\n",
              "    </tr>\n",
              "    <tr>\n",
              "      <th>chevrolet</th>\n",
              "      <td>3.0</td>\n",
              "      <td>27.333333</td>\n",
              "      <td>9.609024</td>\n",
              "      <td>17.0</td>\n",
              "      <td>23.00</td>\n",
              "      <td>29.0</td>\n",
              "      <td>32.50</td>\n",
              "      <td>36.0</td>\n",
              "    </tr>\n",
              "    <tr>\n",
              "      <th>chevy</th>\n",
              "      <td>3.0</td>\n",
              "      <td>26.333333</td>\n",
              "      <td>4.163332</td>\n",
              "      <td>23.0</td>\n",
              "      <td>24.00</td>\n",
              "      <td>25.0</td>\n",
              "      <td>28.00</td>\n",
              "      <td>31.0</td>\n",
              "    </tr>\n",
              "    <tr>\n",
              "      <th>dodge</th>\n",
              "      <td>1.0</td>\n",
              "      <td>21.000000</td>\n",
              "      <td>NaN</td>\n",
              "      <td>21.0</td>\n",
              "      <td>21.00</td>\n",
              "      <td>21.0</td>\n",
              "      <td>21.00</td>\n",
              "      <td>21.0</td>\n",
              "    </tr>\n",
              "    <tr>\n",
              "      <th>ford</th>\n",
              "      <td>6.0</td>\n",
              "      <td>21.833333</td>\n",
              "      <td>9.152413</td>\n",
              "      <td>13.0</td>\n",
              "      <td>17.25</td>\n",
              "      <td>19.0</td>\n",
              "      <td>23.00</td>\n",
              "      <td>39.0</td>\n",
              "    </tr>\n",
              "    <tr>\n",
              "      <th>gmc</th>\n",
              "      <td>3.0</td>\n",
              "      <td>16.000000</td>\n",
              "      <td>9.539392</td>\n",
              "      <td>10.0</td>\n",
              "      <td>10.50</td>\n",
              "      <td>11.0</td>\n",
              "      <td>19.00</td>\n",
              "      <td>27.0</td>\n",
              "    </tr>\n",
              "    <tr>\n",
              "      <th>honda</th>\n",
              "      <td>10.0</td>\n",
              "      <td>17.000000</td>\n",
              "      <td>7.180220</td>\n",
              "      <td>10.0</td>\n",
              "      <td>11.25</td>\n",
              "      <td>15.5</td>\n",
              "      <td>20.50</td>\n",
              "      <td>33.0</td>\n",
              "    </tr>\n",
              "    <tr>\n",
              "      <th>jeep</th>\n",
              "      <td>3.0</td>\n",
              "      <td>37.333333</td>\n",
              "      <td>22.368132</td>\n",
              "      <td>22.0</td>\n",
              "      <td>24.50</td>\n",
              "      <td>27.0</td>\n",
              "      <td>45.00</td>\n",
              "      <td>63.0</td>\n",
              "    </tr>\n",
              "    <tr>\n",
              "      <th>kia</th>\n",
              "      <td>1.0</td>\n",
              "      <td>9.000000</td>\n",
              "      <td>NaN</td>\n",
              "      <td>9.0</td>\n",
              "      <td>9.00</td>\n",
              "      <td>9.0</td>\n",
              "      <td>9.00</td>\n",
              "      <td>9.0</td>\n",
              "    </tr>\n",
              "    <tr>\n",
              "      <th>lexus</th>\n",
              "      <td>1.0</td>\n",
              "      <td>15.000000</td>\n",
              "      <td>NaN</td>\n",
              "      <td>15.0</td>\n",
              "      <td>15.00</td>\n",
              "      <td>15.0</td>\n",
              "      <td>15.00</td>\n",
              "      <td>15.0</td>\n",
              "    </tr>\n",
              "    <tr>\n",
              "      <th>missing</th>\n",
              "      <td>17.0</td>\n",
              "      <td>17.588235</td>\n",
              "      <td>12.389808</td>\n",
              "      <td>6.0</td>\n",
              "      <td>14.00</td>\n",
              "      <td>16.0</td>\n",
              "      <td>19.00</td>\n",
              "      <td>62.0</td>\n",
              "    </tr>\n",
              "    <tr>\n",
              "      <th>mitsubishi</th>\n",
              "      <td>1.0</td>\n",
              "      <td>19.000000</td>\n",
              "      <td>NaN</td>\n",
              "      <td>19.0</td>\n",
              "      <td>19.00</td>\n",
              "      <td>19.0</td>\n",
              "      <td>19.00</td>\n",
              "      <td>19.0</td>\n",
              "    </tr>\n",
              "    <tr>\n",
              "      <th>subaru</th>\n",
              "      <td>3.0</td>\n",
              "      <td>16.000000</td>\n",
              "      <td>2.645751</td>\n",
              "      <td>13.0</td>\n",
              "      <td>15.00</td>\n",
              "      <td>17.0</td>\n",
              "      <td>17.50</td>\n",
              "      <td>18.0</td>\n",
              "    </tr>\n",
              "    <tr>\n",
              "      <th>tesla</th>\n",
              "      <td>2.0</td>\n",
              "      <td>8.000000</td>\n",
              "      <td>1.414214</td>\n",
              "      <td>7.0</td>\n",
              "      <td>7.50</td>\n",
              "      <td>8.0</td>\n",
              "      <td>8.50</td>\n",
              "      <td>9.0</td>\n",
              "    </tr>\n",
              "    <tr>\n",
              "      <th>toyota</th>\n",
              "      <td>8.0</td>\n",
              "      <td>14.625000</td>\n",
              "      <td>8.314145</td>\n",
              "      <td>4.0</td>\n",
              "      <td>7.00</td>\n",
              "      <td>15.0</td>\n",
              "      <td>20.50</td>\n",
              "      <td>27.0</td>\n",
              "    </tr>\n",
              "    <tr>\n",
              "      <th>volkswagen</th>\n",
              "      <td>1.0</td>\n",
              "      <td>15.000000</td>\n",
              "      <td>NaN</td>\n",
              "      <td>15.0</td>\n",
              "      <td>15.00</td>\n",
              "      <td>15.0</td>\n",
              "      <td>15.00</td>\n",
              "      <td>15.0</td>\n",
              "    </tr>\n",
              "    <tr>\n",
              "      <th>volvo</th>\n",
              "      <td>1.0</td>\n",
              "      <td>21.000000</td>\n",
              "      <td>NaN</td>\n",
              "      <td>21.0</td>\n",
              "      <td>21.00</td>\n",
              "      <td>21.0</td>\n",
              "      <td>21.00</td>\n",
              "      <td>21.0</td>\n",
              "    </tr>\n",
              "  </tbody>\n",
              "</table>\n",
              "</div>"
            ],
            "text/plain": [
              "             age                                                      \n",
              "           count       mean        std   min    25%   50%    75%   max\n",
              "brand                                                                 \n",
              "acura        1.0  17.000000        NaN  17.0  17.00  17.0  17.00  17.0\n",
              "audi         1.0  21.000000        NaN  21.0  21.00  21.0  21.00  21.0\n",
              "bmw          2.0  12.500000   2.121320  11.0  11.75  12.5  13.25  14.0\n",
              "buick        1.0  19.000000        NaN  19.0  19.00  19.0  19.00  19.0\n",
              "chevrolet    3.0  27.333333   9.609024  17.0  23.00  29.0  32.50  36.0\n",
              "chevy        3.0  26.333333   4.163332  23.0  24.00  25.0  28.00  31.0\n",
              "dodge        1.0  21.000000        NaN  21.0  21.00  21.0  21.00  21.0\n",
              "ford         6.0  21.833333   9.152413  13.0  17.25  19.0  23.00  39.0\n",
              "gmc          3.0  16.000000   9.539392  10.0  10.50  11.0  19.00  27.0\n",
              "honda       10.0  17.000000   7.180220  10.0  11.25  15.5  20.50  33.0\n",
              "jeep         3.0  37.333333  22.368132  22.0  24.50  27.0  45.00  63.0\n",
              "kia          1.0   9.000000        NaN   9.0   9.00   9.0   9.00   9.0\n",
              "lexus        1.0  15.000000        NaN  15.0  15.00  15.0  15.00  15.0\n",
              "missing     17.0  17.588235  12.389808   6.0  14.00  16.0  19.00  62.0\n",
              "mitsubishi   1.0  19.000000        NaN  19.0  19.00  19.0  19.00  19.0\n",
              "subaru       3.0  16.000000   2.645751  13.0  15.00  17.0  17.50  18.0\n",
              "tesla        2.0   8.000000   1.414214   7.0   7.50   8.0   8.50   9.0\n",
              "toyota       8.0  14.625000   8.314145   4.0   7.00  15.0  20.50  27.0\n",
              "volkswagen   1.0  15.000000        NaN  15.0  15.00  15.0  15.00  15.0\n",
              "volvo        1.0  21.000000        NaN  21.0  21.00  21.0  21.00  21.0"
            ]
          },
          "execution_count": 32,
          "metadata": {},
          "output_type": "execute_result"
        }
      ],
      "source": [
        "# Age by brand:\n",
        "df.loc[:,['age','brand']].groupby('brand').describe()"
      ]
    },
    {
      "cell_type": "code",
      "execution_count": null,
      "metadata": {
        "id": "GLlKU5iUL_Tr",
        "outputId": "ec8dbf18-d4c6-4345-b8a0-89018611f506"
      },
      "outputs": [
        {
          "data": {
            "image/png": "[encoded data removed]",
            "text/plain": [
              "<Figure size 640x480 with 1 Axes>"
            ]
          },
          "metadata": {},
          "output_type": "display_data"
        }
      ],
      "source": [
        "ax = sns.scatterplot(data=df, x='age', y='price',hue='brand')\n",
        "sns.move_legend(ax, \"upper left\", bbox_to_anchor=(1, 1))"
      ]
    },
    {
      "cell_type": "code",
      "execution_count": null,
      "metadata": {
        "id": "2mQfEjT-L_Ts"
      },
      "outputs": [],
      "source": [
        "df['log_price'] = np.log(df['price'])\n",
        "df['log_age'] = np.log(df['age'])\n",
        "\n",
        "ax = sns.scatterplot(data=df, x='log_age', y='log_price',hue='brand')\n",
        "sns.move_legend(ax, \"upper left\", bbox_to_anchor=(1, 1))\n",
        "\n",
        "print(df.loc[:,['log_price','log_age']].cov())\n",
        "print(df.loc[:,['log_price','log_age']].corr())"
      ]
    },
    {
      "cell_type": "code",
      "execution_count": null,
      "metadata": {
        "id": "Q2BrRhKML_Ts"
      },
      "outputs": [],
      "source": [
        "sns.jointplot(data=df, x='log_age', y='log_price',kind='hex')"
      ]
    },
    {
      "cell_type": "markdown",
      "metadata": {
        "id": "ajNBtetWL_Ts"
      },
      "source": [
        "## 3. Wrangle your data, do some EDA, and make some plots. Try to find some interesting relationships or stories to tell about your data."
      ]
    },
    {
      "cell_type": "code",
      "execution_count": null,
      "metadata": {
        "id": "8t3uhM-xL_Ts",
        "outputId": "7a2b9536-4df8-4f23-f046-36ef9cd04e16"
      },
      "outputs": [
        {
          "name": "stdout",
          "output_type": "stream",
          "text": [
            "(35, 4)\n"
          ]
        },
        {
          "data": {
            "text/html": [
              "<div>\n",
              "<style scoped>\n",
              "    .dataframe tbody tr th:only-of-type {\n",
              "        vertical-align: middle;\n",
              "    }\n",
              "\n",
              "    .dataframe tbody tr th {\n",
              "        vertical-align: top;\n",
              "    }\n",
              "\n",
              "    .dataframe thead th {\n",
              "        text-align: right;\n",
              "    }\n",
              "</style>\n",
              "<table border=\"1\" class=\"dataframe\">\n",
              "  <thead>\n",
              "    <tr style=\"text-align: right;\">\n",
              "      <th></th>\n",
              "      <th>title</th>\n",
              "      <th>price</th>\n",
              "      <th>length</th>\n",
              "      <th>kayak</th>\n",
              "    </tr>\n",
              "  </thead>\n",
              "  <tbody>\n",
              "    <tr>\n",
              "      <th>0</th>\n",
              "      <td>jon boat and vee bottom boat</td>\n",
              "      <td>200</td>\n",
              "      <td>NaN</td>\n",
              "      <td>False</td>\n",
              "    </tr>\n",
              "    <tr>\n",
              "      <th>1</th>\n",
              "      <td>14ft jon boat crestliner</td>\n",
              "      <td>2850</td>\n",
              "      <td>14.0</td>\n",
              "      <td>False</td>\n",
              "    </tr>\n",
              "    <tr>\n",
              "      <th>2</th>\n",
              "      <td>wave armor drive on pwc and boat ports</td>\n",
              "      <td>2200</td>\n",
              "      <td>NaN</td>\n",
              "      <td>False</td>\n",
              "    </tr>\n",
              "    <tr>\n",
              "      <th>3</th>\n",
              "      <td>triton tr-175 fishing boat</td>\n",
              "      <td>6500</td>\n",
              "      <td>NaN</td>\n",
              "      <td>False</td>\n",
              "    </tr>\n",
              "    <tr>\n",
              "      <th>4</th>\n",
              "      <td>outboard motor for sale!!!</td>\n",
              "      <td>1600</td>\n",
              "      <td>NaN</td>\n",
              "      <td>False</td>\n",
              "    </tr>\n",
              "    <tr>\n",
              "      <th>5</th>\n",
              "      <td>rinker boat for sale</td>\n",
              "      <td>2500</td>\n",
              "      <td>NaN</td>\n",
              "      <td>False</td>\n",
              "    </tr>\n",
              "    <tr>\n",
              "      <th>6</th>\n",
              "      <td>19ft rinker</td>\n",
              "      <td>0</td>\n",
              "      <td>19.0</td>\n",
              "      <td>False</td>\n",
              "    </tr>\n",
              "    <tr>\n",
              "      <th>7</th>\n",
              "      <td>2-person intex inflatable kayak, well made, fi...</td>\n",
              "      <td>180</td>\n",
              "      <td>NaN</td>\n",
              "      <td>True</td>\n",
              "    </tr>\n",
              "    <tr>\n",
              "      <th>8</th>\n",
              "      <td>11ft coleman kayak</td>\n",
              "      <td>135</td>\n",
              "      <td>11.0</td>\n",
              "      <td>True</td>\n",
              "    </tr>\n",
              "    <tr>\n",
              "      <th>9</th>\n",
              "      <td>kayak single seat</td>\n",
              "      <td>170</td>\n",
              "      <td>NaN</td>\n",
              "      <td>True</td>\n",
              "    </tr>\n",
              "  </tbody>\n",
              "</table>\n",
              "</div>"
            ],
            "text/plain": [
              "                                               title  price  length  kayak\n",
              "0                       jon boat and vee bottom boat    200     NaN  False\n",
              "1                           14ft jon boat crestliner   2850    14.0  False\n",
              "2             wave armor drive on pwc and boat ports   2200     NaN  False\n",
              "3                         triton tr-175 fishing boat   6500     NaN  False\n",
              "4                         outboard motor for sale!!!   1600     NaN  False\n",
              "5                               rinker boat for sale   2500     NaN  False\n",
              "6                                        19ft rinker      0    19.0  False\n",
              "7  2-person intex inflatable kayak, well made, fi...    180     NaN   True\n",
              "8                                 11ft coleman kayak    135    11.0   True\n",
              "9                                  kayak single seat    170     NaN   True"
            ]
          },
          "execution_count": 42,
          "metadata": {},
          "output_type": "execute_result"
        }
      ],
      "source": [
        "df = pd.DataFrame.from_dict(data)\n",
        "df['price'] = df['price'].str.replace('$','')\n",
        "df['price'] = df['price'].str.replace(',','')\n",
        "df['price'] = pd.to_numeric(df['price'],errors='coerce')\n",
        "df['length'] = pd.to_numeric(df['length'],errors='coerce')\n",
        "print(df.shape)\n",
        "df.head(10)"
      ]
    },
    {
      "cell_type": "code",
      "execution_count": null,
      "metadata": {
        "id": "Odyv1ClOL_Ts",
        "outputId": "a2d19e42-3d4d-4bf1-a635-6bb53d2b2ef0"
      },
      "outputs": [
        {
          "name": "stdout",
          "output_type": "stream",
          "text": [
            "count        35.000000\n",
            "mean      14412.257143\n",
            "std       28953.917913\n",
            "min           0.000000\n",
            "25%         200.000000\n",
            "50%        2200.000000\n",
            "75%       12999.500000\n",
            "max      134999.000000\n",
            "Name: price, dtype: float64 \n",
            "\n"
          ]
        },
        {
          "data": {
            "image/png": "[encoded data removed]",
            "text/plain": [
              "<Figure size 640x480 with 1 Axes>"
            ]
          },
          "metadata": {},
          "output_type": "display_data"
        },
        {
          "name": "stdout",
          "output_type": "stream",
          "text": [
            "Listings missing length: 32\n",
            "count     3.000000\n",
            "mean     14.666667\n",
            "std       4.041452\n",
            "min      11.000000\n",
            "25%      12.500000\n",
            "50%      14.000000\n",
            "75%      16.500000\n",
            "max      19.000000\n",
            "Name: length, dtype: float64\n"
          ]
        }
      ],
      "source": [
        "print(df['price'].describe(),'\\n')\n",
        "df['price'].hist()\n",
        "plt.show()\n",
        "\n",
        "print(\"Listings missing length:\", df['length'].isnull().sum())\n",
        "print(df['length'].describe())"
      ]
    },
    {
      "cell_type": "code",
      "execution_count": null,
      "metadata": {
        "id": "skZ5SBc3L_Ts",
        "outputId": "3848e5ac-1a45-4b9e-8a83-5ec6311b8c5d"
      },
      "outputs": [
        {
          "name": "stdout",
          "output_type": "stream",
          "text": [
            "count        35.000000\n",
            "mean      14412.257143\n",
            "std       28953.917913\n",
            "min           0.000000\n",
            "25%         200.000000\n",
            "50%        2200.000000\n",
            "75%       12999.500000\n",
            "max      134999.000000\n",
            "Name: price, dtype: float64\n"
          ]
        },
        {
          "data": {
            "text/plain": [
              "<Axes: >"
            ]
          },
          "execution_count": 47,
          "metadata": {},
          "output_type": "execute_result"
        },
        {
          "data": {
            "image/png": "[encoded data removed]",
            "text/plain": [
              "<Figure size 640x480 with 1 Axes>"
            ]
          },
          "metadata": {},
          "output_type": "display_data"
        }
      ],
      "source": [
        "print(df['price'].describe())\n",
        "df['price'].hist()"
      ]
    },
    {
      "cell_type": "code",
      "execution_count": null,
      "metadata": {
        "id": "GaSIMo77L_Tt",
        "outputId": "17e18c75-1091-4aec-b6bd-399aff8f03e3"
      },
      "outputs": [
        {
          "data": {
            "text/plain": [
              "<Axes: xlabel='length', ylabel='price'>"
            ]
          },
          "execution_count": 45,
          "metadata": {},
          "output_type": "execute_result"
        },
        {
          "data": {
            "image/png": "[encoded data removed]",
            "text/plain": [
              "<Figure size 640x480 with 1 Axes>"
            ]
          },
          "metadata": {},
          "output_type": "display_data"
        }
      ],
      "source": [
        "sns.lineplot(df, x='length',y='price')"
      ]
    },
    {
      "cell_type": "code",
      "execution_count": null,
      "metadata": {
        "id": "n2yZnTGYL_Tt",
        "outputId": "886a7ac6-8c73-4b68-960c-05e765a9c4fc"
      },
      "outputs": [
        {
          "data": {
            "text/plain": [
              "length\n",
              "11.0     135.0\n",
              "14.0    2850.0\n",
              "19.0       0.0\n",
              "Name: price, dtype: float64"
            ]
          },
          "execution_count": 48,
          "metadata": {},
          "output_type": "execute_result"
        }
      ],
      "source": [
        "df['price'].groupby(df['length']).mean()"
      ]
    },
    {
      "cell_type": "markdown",
      "metadata": {
        "id": "5LWMd_TUL_Tt"
      },
      "source": [
        "The final thing we want to do is go from scraping a single page to crawling around.\n",
        "\n",
        "The idea here is that every web page is connected to some other page. By extracting links as we move from page to page, we can create a web crawler that wanders around for us, gathering information of interest.\n",
        "\n",
        "In this case, we want to use the search results to then visit each individual page for each listing. Since we saved the links to the web pages in the previous scrape, we can now simply for-loop over that column in the dataframe, visiting the page listing for each of the cars in the search results:"
      ]
    },
    {
      "cell_type": "code",
      "execution_count": null,
      "metadata": {
        "id": "XuIloDyyL_Tt"
      },
      "outputs": [],
      "source": [
        "import time # Time delays\n",
        "import random # Random numbers\n",
        "\n",
        "links = df['link']\n",
        "data = []\n",
        "for link in links: # about 3 minutes\n",
        "    time.sleep(random.randint(1, 3)) # Random delays\n",
        "    raw = requests.get(link,headers=header) # Get page\n",
        "    bsObj = soup(raw.content,'html.parser') # Parse the html\n",
        "    #\n",
        "    try:\n",
        "        year_post = bsObj.find(class_='attr important').find(class_ = 'valu year').get_text()\n",
        "    except:\n",
        "        year_post = np.nan\n",
        "    #\n",
        "    try:\n",
        "        condition = bsObj.find(class_='attr condition').find(href=True).get_text()\n",
        "    except:\n",
        "        condition = 'missing'\n",
        "    #\n",
        "    try:\n",
        "        cylinders = bsObj.find(class_='attr auto_cylinders').find(class_ = 'valu').get_text()\n",
        "        cylinders = cylinders.replace('\\n','')\n",
        "    except:\n",
        "        cylinders = 'missing'\n",
        "    #\n",
        "    try:\n",
        "        drivetrain = bsObj.find(class_='attr auto_drivetrain').find(href=True).get_text()\n",
        "    except:\n",
        "        drivetrain = 'missing'\n",
        "    #\n",
        "    try:\n",
        "        fuel = bsObj.find(class_='attr auto_fuel_type').find(href = True).get_text()\n",
        "    except:\n",
        "        fuel = 'missing'\n",
        "    #\n",
        "    try:\n",
        "        miles = bsObj.find(class_='attr auto_miles').find(class_ = 'valu').get_text()\n",
        "    except:\n",
        "        miles = np.nan\n",
        "    #\n",
        "    try:\n",
        "        color = bsObj.find(class_='attr auto_paint').find(href=True).get_text()\n",
        "    except:\n",
        "        color='missing'\n",
        "    #\n",
        "    try:\n",
        "        title = bsObj.find(class_='attr auto_title_status').find(href=True).get_text()\n",
        "    except:\n",
        "        title='missing'\n",
        "    #\n",
        "    try:\n",
        "        transmission = bsObj.find(class_='attr auto_transmission').find(href=True).get_text()\n",
        "    except:\n",
        "        transmission = 'missing'\n",
        "    #\n",
        "    try:\n",
        "        bodytype = bsObj.find(class_='attr auto_bodytype').find(href=True).get_text()\n",
        "    except:\n",
        "        bodytype = 'missing'\n",
        "    #\n",
        "    text = bsObj.find(id='postingbody').get_text()\n",
        "    text = text.replace('\\n','')\n",
        "    text = text.replace('QR Code Link to This Post','')\n",
        "    record = {'title':title,\n",
        "              'year_post':year_post,\n",
        "              'condition':condition,\n",
        "              'cylinders':cylinders,\n",
        "              'drivetrain':drivetrain,\n",
        "              'fuel':fuel,\n",
        "              'miles':miles,\n",
        "              'color':color,\n",
        "              'title':'title',\n",
        "              'transmission':transmission,\n",
        "              'bodytype':bodytype,\n",
        "              'text':text,}\n",
        "    data.append(record)"
      ]
    },
    {
      "cell_type": "markdown",
      "metadata": {
        "id": "Gm3pg0gDL_Tt"
      },
      "source": [
        "What are the new features here?\n",
        "\n",
        "First, we don't want to overwhelm the servers, so we put a small delay between each request of a listing, `time.sleep(random.randint(1, 3))`. This waits a random amount of time between 1 and 3 seconds to avoid overwhelming their server.\n",
        "\n",
        "Second, we use the try/except block. This is a useful control structure in general, but especially for web scraping. Python tries the statements under `try:`, and if it fails, executes the steps under `except:`. This can happen, in this case, with missing data, which crashes the crawler. Instead, we put our missing codes into our dataframe right away.\n",
        "\n",
        "Third, we used `.find().find().get_text()` to find the data we're looking for. In general, the structure of mark-up langauges like HTML and XML makes it possible to \"drill down\" into their entries and extract the information of interest. This exploitation of mark-up languages could be the subject of a whole course on procuring data from the web."
      ]
    },
    {
      "cell_type": "markdown",
      "metadata": {
        "id": "Y_cW_vJKL_Tu"
      },
      "source": [
        "With the data scraped, we can make a new dataframe, combine it with the old one using `pd.concat`, and do some wrangling to clean the data up:"
      ]
    },
    {
      "cell_type": "code",
      "execution_count": null,
      "metadata": {
        "id": "LEgHp5YVL_Tu"
      },
      "outputs": [],
      "source": [
        "new_df = pd.DataFrame.from_dict(data)\n",
        "new_df.head()\n",
        "\n",
        "df = pd.concat([df,new_df],axis=1) # combine data frames\n",
        "df.head()\n",
        "\n",
        "df['miles'] = df['miles'].str.replace(',','')\n",
        "df['miles'] = pd.to_numeric(df['miles'],errors='coerce')\n",
        "\n",
        "df['year_post'] = df['year_post'].str.replace(',','')\n",
        "df['year_post'] = pd.to_numeric(df['year_post'],errors='coerce')\n",
        "df.to_csv('craiglist_cville_cars_long.csv')"
      ]
    },
    {
      "cell_type": "markdown",
      "source": [
        "I was having issues creating the graphs and my session was overloaded so I couldn't conduct more analysis."
      ],
      "metadata": {
        "id": "LyuNyXx4MaHJ"
      }
    },
    {
      "cell_type": "markdown",
      "metadata": {
        "id": "dbu0t5x7L_Tu"
      },
      "source": [
        "## 4. From your search results, crawl to the links and extract more information about every listing in your original dataframe. Wrangle and do some EDA."
      ]
    }
  ],
  "metadata": {
    "kernelspec": {
      "display_name": "venv",
      "language": "python",
      "name": "python3"
    },
    "language_info": {
      "codemirror_mode": {
        "name": "ipython",
        "version": 3
      },
      "file_extension": ".py",
      "mimetype": "text/x-python",
      "name": "python",
      "nbconvert_exporter": "python",
      "pygments_lexer": "ipython3",
      "version": "3.12.3"
    },
    "colab": {
      "provenance": []
    }
  },
  "nbformat": 4,
  "nbformat_minor": 0
}